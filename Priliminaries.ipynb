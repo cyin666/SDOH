{
  "nbformat": 4,
  "nbformat_minor": 0,
  "metadata": {
    "colab": {
      "name": "SDOH.ipynb",
      "provenance": [],
      "mount_file_id": "1rBlx5N1GVLEEOcDqKHSZlsW9p521ajUU",
      "authorship_tag": "ABX9TyP1MSFwqpNrcEr2EWyNN8Vx",
      "include_colab_link": true
    },
    "kernelspec": {
      "name": "python3",
      "display_name": "Python 3"
    },
    "language_info": {
      "name": "python"
    }
  },
  "cells": [
    {
      "cell_type": "markdown",
      "metadata": {
        "id": "view-in-github",
        "colab_type": "text"
      },
      "source": [
        "<a href=\"https://colab.research.google.com/github/cyin666/SDOH/blob/main/Priliminaries.ipynb\" target=\"_parent\"><img src=\"https://colab.research.google.com/assets/colab-badge.svg\" alt=\"Open In Colab\"/></a>"
      ]
    },
    {
      "cell_type": "markdown",
      "source": [
        "#**SDOH Project (Colab Version)**"
      ],
      "metadata": {
        "id": "-14VrsUXZUCy"
      }
    },
    {
      "cell_type": "markdown",
      "source": [
        "1111"
      ],
      "metadata": {
        "id": "jAVRSZ9lBSie"
      }
    },
    {
      "cell_type": "markdown",
      "source": [
        "#Useful Links:\n",
        "1. Official mimic data documentation: https://mimic.mit.edu/docs/iii/\n",
        "2. Schema overview and description: https://mit-lcp.github.io/mimic-schema-spy/\n",
        "3. Table relationships: https://mit-lcp.github.io/mimic-schema-spy/relationships.html"
      ],
      "metadata": {
        "id": "D8kqozhTbSSb"
      }
    },
    {
      "cell_type": "markdown",
      "source": [
        "## Connect to Google Drive"
      ],
      "metadata": {
        "id": "R4-L_Q3EaJTx"
      }
    },
    {
      "cell_type": "code",
      "source": [
        "from google.colab import drive\n",
        "drive.mount('/content/drive')"
      ],
      "metadata": {
        "colab": {
          "base_uri": "https://localhost:8080/"
        },
        "id": "1l9Ik_DHaHiN",
        "outputId": "15a295e0-260e-4e83-e04b-3175ee7e4dbb"
      },
      "execution_count": 2,
      "outputs": [
        {
          "output_type": "stream",
          "name": "stdout",
          "text": [
            "Drive already mounted at /content/drive; to attempt to forcibly remount, call drive.mount(\"/content/drive\", force_remount=True).\n"
          ]
        }
      ]
    },
    {
      "cell_type": "markdown",
      "source": [
        "## Importing Liabraries"
      ],
      "metadata": {
        "id": "y8XIBGKHZj_K"
      }
    },
    {
      "cell_type": "code",
      "execution_count": 3,
      "metadata": {
        "id": "Zpn4D4eGY1lN"
      },
      "outputs": [],
      "source": [
        "import pandas as pd\n",
        "import numpy as np\n",
        "import matplotlib.pyplot as plt"
      ]
    },
    {
      "cell_type": "markdown",
      "source": [
        "## Import Datasets"
      ],
      "metadata": {
        "id": "_t_Qix9ZZ385"
      }
    },
    {
      "cell_type": "code",
      "source": [
        "#Module 1: The following tables are used to define and track patient stays:\n",
        "\n",
        "#t1:Hospital admissions associated with an ICU stay.\n",
        "admissions = pd.read_csv('/content/drive/MyDrive/SDOH/mimic-iii-clinical-database-1.4/ADMISSIONS.csv.gz',compression='gzip')\n",
        "\n",
        "#t2:Record of when patients were ready for discharge (called out), and the actual time of their discharge (or more generally, their outcome).\n",
        "callout = pd.read_csv('/content/drive/MyDrive/SDOH/mimic-iii-clinical-database-1.4/CALLOUT.csv.gz',compression='gzip')\n",
        "\n",
        "#t3:List of ICU admissions.\n",
        "icustays = pd.read_csv('/content/drive/MyDrive/SDOH/mimic-iii-clinical-database-1.4/ICUSTAYS.csv.gz',compression='gzip')\n",
        "\n",
        "#t4:Patients associated with an admission to the ICU.\n",
        "patients = pd.read_csv('/content/drive/MyDrive/SDOH/mimic-iii-clinical-database-1.4/PATIENTS.csv.gz',compression='gzip')\n",
        "\n",
        "#t5:Hospital services that patients were under during their hospital stay.\n",
        "services = pd.read_csv('/content/drive/MyDrive/SDOH/mimic-iii-clinical-database-1.4/SERVICES.csv.gz',compression='gzip')\n",
        "\n",
        "#t6:\tLocation of patients during their hospital stay.\n",
        "transfers = pd.read_csv('/content/drive/MyDrive/SDOH/mimic-iii-clinical-database-1.4/TRANSFERS.csv.gz',compression='gzip')"
      ],
      "metadata": {
        "id": "n1Fuw3AzZ3eM"
      },
      "execution_count": 4,
      "outputs": []
    },
    {
      "cell_type": "code",
      "source": [
        "#Module 2: The following tables contain data collected in the critical care unit:\n",
        "\n",
        "#t7: List of caregivers associated with an ICU stay.\n",
        "caregivers = pd.read_csv('/content/drive/MyDrive/SDOH/mimic-iii-clinical-database-1.4/CAREGIVERS.csv.gz',compression='gzip')\n",
        "\n",
        "#Local or Colab resource can't load these table commented below. So, we ignore thenm first, as they should be collected after ICU category designation\n",
        "\n",
        "#t8: Events occuring on a patient chart.\n",
        "#chartevents = pd.read_csv('/content/drive/MyDrive/SDOH/mimic-iii-clinical-database-1.4/CHARTEVENTS.csv.gz',compression='gzip')\n",
        "\n",
        "#t9: Events relating to a datetime.\n",
        "#datetimeevents = pd.read_csv('/content/drive/MyDrive/SDOH/mimic-iii-clinical-database-1.4/DATETIMEEVENTS.csv.gz',compression='gzip')\n",
        "\n",
        "#t10: Events relating to fluid input for patients whose data was originally stored in the CareVue database.\n",
        "#inputevents_cv = pd.read_csv('/content/drive/MyDrive/SDOH/mimic-iii-clinical-database-1.4/INPUTEVENTS_CV.csv.gz',compression='gzip')\n",
        "\n",
        "#t11: Events relating to fluid input for patients whose data was originally stored in the MetaVision database.\n",
        "#inputevents_mv = pd.read_csv('/content/drive/MyDrive/SDOH/mimic-iii-clinical-database-1.4/INPUTEVENTS_MV.csv.gz',compression='gzip')\n",
        "\n",
        "#t12: Notes associated with hospital stays.\n",
        "#noteevents = pd.read_csv('/content/drive/MyDrive/SDOH/mimic-iii-clinical-database-1.4/NOTEEVENTS.csv.gz',compression='gzip')\n",
        "\n",
        "#t13: Outputs recorded during the ICU stay.\n",
        "#outputevents = pd.read_csv('/content/drive/MyDrive/SDOH/mimic-iii-clinical-database-1.4/OUTPUTEVENTS.csv.gz',compression='gzip')\n",
        "\n",
        "#t14: Procedure start and stop times recorded for MetaVision patients.\n",
        "#procedureevents_mv = pd.read_csv('/content/drive/MyDrive/SDOH/mimic-iii-clinical-database-1.4/PROCEDUREEVENTS_MV.csv.gz',compression='gzip')"
      ],
      "metadata": {
        "id": "WsK4ZQ5hgt0t"
      },
      "execution_count": 5,
      "outputs": []
    },
    {
      "cell_type": "code",
      "source": [
        "#Module 3: The following tables contain data collected in the hospital record system:\n",
        "#t15: Events recorded in Current Procedural Terminology.\n",
        "cptevents = pd.read_csv('/content/drive/MyDrive/SDOH/mimic-iii-clinical-database-1.4/CPTEVENTS.csv.gz',compression='gzip')\n",
        "\n",
        "#t16: Diagnoses relating to a hospital admission coded using the ICD9 system.\n",
        "diagnoses_icd = pd.read_csv('/content/drive/MyDrive/SDOH/mimic-iii-clinical-database-1.4/DIAGNOSES_ICD.csv.gz',compression='gzip')\n",
        "\n",
        "#t17: Hospital stays classified using the Diagnosis-Related Group system.\n",
        "drgcodes = pd.read_csv('/content/drive/MyDrive/SDOH/mimic-iii-clinical-database-1.4/DRGCODES.csv.gz',compression='gzip')\n",
        "\n",
        "#t18: Events relating to laboratory tests.\n",
        "labevents = pd.read_csv('/content/drive/MyDrive/SDOH/mimic-iii-clinical-database-1.4/LABEVENTS.csv.gz',compression='gzip')\n",
        "\n",
        "#t19: Events relating to microbiology tests.\n",
        "microbiologyevents = pd.read_csv('/content/drive/MyDrive/SDOH/mimic-iii-clinical-database-1.4/MICROBIOLOGYEVENTS.csv.gz',compression='gzip')\n",
        "\n",
        "#t20: Medicines prescribed.\n",
        "prescriptions = pd.read_csv('/content/drive/MyDrive/SDOH/mimic-iii-clinical-database-1.4/PRESCRIPTIONS.csv.gz',compression='gzip')\n",
        "\n",
        "#t21: Procedures relating to a hospital admission coded using the ICD9 system.\n",
        "procedures_icd = pd.read_csv('/content/drive/MyDrive/SDOH/mimic-iii-clinical-database-1.4/PROCEDURES_ICD.csv.gz',compression='gzip')"
      ],
      "metadata": {
        "id": "7UexMxmUZ2iR"
      },
      "execution_count": null,
      "outputs": []
    },
    {
      "cell_type": "code",
      "source": [
        "#Module 4: The following tables are dictionaries:\n",
        "#t22: High-level dictionary of the Current Procedural Terminology.\n",
        "d_cpt = pd.read_csv('/content/drive/MyDrive/SDOH/mimic-iii-clinical-database-1.4/D_CPT.csv.gz',compression='gzip')\n",
        "\n",
        "#t23: Dictionary of the International Classification of Diseases, 9th Revision (Diagnoses).\n",
        "d_icd_diagnoses = pd.read_csv('/content/drive/MyDrive/SDOH/mimic-iii-clinical-database-1.4/D_ICD_DIAGNOSES.csv.gz',compression='gzip')\n",
        "\n",
        "#t24: Dictionary of the International Classification of Diseases, 9th Revision (Procedures).\n",
        "d_icd_procedures = pd.read_csv('/content/drive/MyDrive/SDOH/mimic-iii-clinical-database-1.4/D_ICD_PROCEDURES.csv.gz',compression='gzip')\n",
        "\n",
        "#t25: Dictionary of non-laboratory-related charted items.\n",
        "d_items = pd.read_csv('/content/drive/MyDrive/SDOH/mimic-iii-clinical-database-1.4/D_ITEMS.csv.gz',compression='gzip')\n",
        "\n",
        "#t27: Dictionary of laboratory-related items.\n",
        "d_labitems = pd.read_csv('/content/drive/MyDrive/SDOH/mimic-iii-clinical-database-1.4/D_LABITEMS.csv.gz',compression='gzip')"
      ],
      "metadata": {
        "id": "VMCTkm0Wi7k8"
      },
      "execution_count": null,
      "outputs": []
    },
    {
      "cell_type": "code",
      "source": [
        "patients.head()"
      ],
      "metadata": {
        "colab": {
          "base_uri": "https://localhost:8080/",
          "height": 206
        },
        "id": "ln2zkN4Qi6lA",
        "outputId": "f7ebcbbf-007b-4b10-d5de-af29fee340d6"
      },
      "execution_count": null,
      "outputs": [
        {
          "output_type": "execute_result",
          "data": {
            "text/plain": [
              "   ROW_ID  SUBJECT_ID GENDER                  DOB                  DOD  \\\n",
              "0     234         249      F  2075-03-13 00:00:00                  NaN   \n",
              "1     235         250      F  2164-12-27 00:00:00  2188-11-22 00:00:00   \n",
              "2     236         251      M  2090-03-15 00:00:00                  NaN   \n",
              "3     237         252      M  2078-03-06 00:00:00                  NaN   \n",
              "4     238         253      F  2089-11-26 00:00:00                  NaN   \n",
              "\n",
              "              DOD_HOSP DOD_SSN  EXPIRE_FLAG  \n",
              "0                  NaN     NaN            0  \n",
              "1  2188-11-22 00:00:00     NaN            1  \n",
              "2                  NaN     NaN            0  \n",
              "3                  NaN     NaN            0  \n",
              "4                  NaN     NaN            0  "
            ],
            "text/html": [
              "\n",
              "  <div id=\"df-22b48d89-3aa0-4103-a4b3-4cb9030aa01d\">\n",
              "    <div class=\"colab-df-container\">\n",
              "      <div>\n",
              "<style scoped>\n",
              "    .dataframe tbody tr th:only-of-type {\n",
              "        vertical-align: middle;\n",
              "    }\n",
              "\n",
              "    .dataframe tbody tr th {\n",
              "        vertical-align: top;\n",
              "    }\n",
              "\n",
              "    .dataframe thead th {\n",
              "        text-align: right;\n",
              "    }\n",
              "</style>\n",
              "<table border=\"1\" class=\"dataframe\">\n",
              "  <thead>\n",
              "    <tr style=\"text-align: right;\">\n",
              "      <th></th>\n",
              "      <th>ROW_ID</th>\n",
              "      <th>SUBJECT_ID</th>\n",
              "      <th>GENDER</th>\n",
              "      <th>DOB</th>\n",
              "      <th>DOD</th>\n",
              "      <th>DOD_HOSP</th>\n",
              "      <th>DOD_SSN</th>\n",
              "      <th>EXPIRE_FLAG</th>\n",
              "    </tr>\n",
              "  </thead>\n",
              "  <tbody>\n",
              "    <tr>\n",
              "      <th>0</th>\n",
              "      <td>234</td>\n",
              "      <td>249</td>\n",
              "      <td>F</td>\n",
              "      <td>2075-03-13 00:00:00</td>\n",
              "      <td>NaN</td>\n",
              "      <td>NaN</td>\n",
              "      <td>NaN</td>\n",
              "      <td>0</td>\n",
              "    </tr>\n",
              "    <tr>\n",
              "      <th>1</th>\n",
              "      <td>235</td>\n",
              "      <td>250</td>\n",
              "      <td>F</td>\n",
              "      <td>2164-12-27 00:00:00</td>\n",
              "      <td>2188-11-22 00:00:00</td>\n",
              "      <td>2188-11-22 00:00:00</td>\n",
              "      <td>NaN</td>\n",
              "      <td>1</td>\n",
              "    </tr>\n",
              "    <tr>\n",
              "      <th>2</th>\n",
              "      <td>236</td>\n",
              "      <td>251</td>\n",
              "      <td>M</td>\n",
              "      <td>2090-03-15 00:00:00</td>\n",
              "      <td>NaN</td>\n",
              "      <td>NaN</td>\n",
              "      <td>NaN</td>\n",
              "      <td>0</td>\n",
              "    </tr>\n",
              "    <tr>\n",
              "      <th>3</th>\n",
              "      <td>237</td>\n",
              "      <td>252</td>\n",
              "      <td>M</td>\n",
              "      <td>2078-03-06 00:00:00</td>\n",
              "      <td>NaN</td>\n",
              "      <td>NaN</td>\n",
              "      <td>NaN</td>\n",
              "      <td>0</td>\n",
              "    </tr>\n",
              "    <tr>\n",
              "      <th>4</th>\n",
              "      <td>238</td>\n",
              "      <td>253</td>\n",
              "      <td>F</td>\n",
              "      <td>2089-11-26 00:00:00</td>\n",
              "      <td>NaN</td>\n",
              "      <td>NaN</td>\n",
              "      <td>NaN</td>\n",
              "      <td>0</td>\n",
              "    </tr>\n",
              "  </tbody>\n",
              "</table>\n",
              "</div>\n",
              "      <button class=\"colab-df-convert\" onclick=\"convertToInteractive('df-22b48d89-3aa0-4103-a4b3-4cb9030aa01d')\"\n",
              "              title=\"Convert this dataframe to an interactive table.\"\n",
              "              style=\"display:none;\">\n",
              "        \n",
              "  <svg xmlns=\"http://www.w3.org/2000/svg\" height=\"24px\"viewBox=\"0 0 24 24\"\n",
              "       width=\"24px\">\n",
              "    <path d=\"M0 0h24v24H0V0z\" fill=\"none\"/>\n",
              "    <path d=\"M18.56 5.44l.94 2.06.94-2.06 2.06-.94-2.06-.94-.94-2.06-.94 2.06-2.06.94zm-11 1L8.5 8.5l.94-2.06 2.06-.94-2.06-.94L8.5 2.5l-.94 2.06-2.06.94zm10 10l.94 2.06.94-2.06 2.06-.94-2.06-.94-.94-2.06-.94 2.06-2.06.94z\"/><path d=\"M17.41 7.96l-1.37-1.37c-.4-.4-.92-.59-1.43-.59-.52 0-1.04.2-1.43.59L10.3 9.45l-7.72 7.72c-.78.78-.78 2.05 0 2.83L4 21.41c.39.39.9.59 1.41.59.51 0 1.02-.2 1.41-.59l7.78-7.78 2.81-2.81c.8-.78.8-2.07 0-2.86zM5.41 20L4 18.59l7.72-7.72 1.47 1.35L5.41 20z\"/>\n",
              "  </svg>\n",
              "      </button>\n",
              "      \n",
              "  <style>\n",
              "    .colab-df-container {\n",
              "      display:flex;\n",
              "      flex-wrap:wrap;\n",
              "      gap: 12px;\n",
              "    }\n",
              "\n",
              "    .colab-df-convert {\n",
              "      background-color: #E8F0FE;\n",
              "      border: none;\n",
              "      border-radius: 50%;\n",
              "      cursor: pointer;\n",
              "      display: none;\n",
              "      fill: #1967D2;\n",
              "      height: 32px;\n",
              "      padding: 0 0 0 0;\n",
              "      width: 32px;\n",
              "    }\n",
              "\n",
              "    .colab-df-convert:hover {\n",
              "      background-color: #E2EBFA;\n",
              "      box-shadow: 0px 1px 2px rgba(60, 64, 67, 0.3), 0px 1px 3px 1px rgba(60, 64, 67, 0.15);\n",
              "      fill: #174EA6;\n",
              "    }\n",
              "\n",
              "    [theme=dark] .colab-df-convert {\n",
              "      background-color: #3B4455;\n",
              "      fill: #D2E3FC;\n",
              "    }\n",
              "\n",
              "    [theme=dark] .colab-df-convert:hover {\n",
              "      background-color: #434B5C;\n",
              "      box-shadow: 0px 1px 3px 1px rgba(0, 0, 0, 0.15);\n",
              "      filter: drop-shadow(0px 1px 2px rgba(0, 0, 0, 0.3));\n",
              "      fill: #FFFFFF;\n",
              "    }\n",
              "  </style>\n",
              "\n",
              "      <script>\n",
              "        const buttonEl =\n",
              "          document.querySelector('#df-22b48d89-3aa0-4103-a4b3-4cb9030aa01d button.colab-df-convert');\n",
              "        buttonEl.style.display =\n",
              "          google.colab.kernel.accessAllowed ? 'block' : 'none';\n",
              "\n",
              "        async function convertToInteractive(key) {\n",
              "          const element = document.querySelector('#df-22b48d89-3aa0-4103-a4b3-4cb9030aa01d');\n",
              "          const dataTable =\n",
              "            await google.colab.kernel.invokeFunction('convertToInteractive',\n",
              "                                                     [key], {});\n",
              "          if (!dataTable) return;\n",
              "\n",
              "          const docLinkHtml = 'Like what you see? Visit the ' +\n",
              "            '<a target=\"_blank\" href=https://colab.research.google.com/notebooks/data_table.ipynb>data table notebook</a>'\n",
              "            + ' to learn more about interactive tables.';\n",
              "          element.innerHTML = '';\n",
              "          dataTable['output_type'] = 'display_data';\n",
              "          await google.colab.output.renderOutput(dataTable, element);\n",
              "          const docLink = document.createElement('div');\n",
              "          docLink.innerHTML = docLinkHtml;\n",
              "          element.appendChild(docLink);\n",
              "        }\n",
              "      </script>\n",
              "    </div>\n",
              "  </div>\n",
              "  "
            ]
          },
          "metadata": {},
          "execution_count": 12
        }
      ]
    }
  ]
}