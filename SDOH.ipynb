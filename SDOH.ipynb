{
  "nbformat": 4,
  "nbformat_minor": 0,
  "metadata": {
    "colab": {
      "name": "SDOH.ipynb",
      "provenance": [],
      "mount_file_id": "1rBlx5N1GVLEEOcDqKHSZlsW9p521ajUU",
      "authorship_tag": "ABX9TyOK1cIAleQ+/vQLj+kSvzlI",
      "include_colab_link": true
    },
    "kernelspec": {
      "name": "python3",
      "display_name": "Python 3"
    },
    "language_info": {
      "name": "python"
    }
  },
  "cells": [
    {
      "cell_type": "markdown",
      "metadata": {
        "id": "view-in-github",
        "colab_type": "text"
      },
      "source": [
        "<a href=\"https://colab.research.google.com/github/cyin666/SDOH/blob/main/SDOH.ipynb\" target=\"_parent\"><img src=\"https://colab.research.google.com/assets/colab-badge.svg\" alt=\"Open In Colab\"/></a>"
      ]
    },
    {
      "cell_type": "markdown",
      "source": [
        "#**SDOH Project**"
      ],
      "metadata": {
        "id": "-14VrsUXZUCy"
      }
    },
    {
      "cell_type": "markdown",
      "source": [
        "##Terminologies:\n",
        "1. CCU: Coronary Care Unit:\n",
        "\n",
        "\n",
        "> Specialized in the care of patients with heart attacks, unstable angina, cardiac dysrhythmia and (in practice) various other cardiac conditions that require continuous monitoring and treatment.\n",
        "\n",
        "\n",
        "\n",
        "2. CSRU: Cardiac Surgery Recovery Unit:\n",
        "\n",
        "> Specialized intensive care unit for cardiac surgery patients immediately following surgery.\n",
        "\n",
        "\n",
        "\n",
        "3. MICU: Medical Intensive Care Unit\n",
        "\n",
        "\n",
        "> Provide care for patients with medical conditions who do not require surgery\n",
        "\n",
        "\n",
        "\n",
        "4. SICU: Surgical Intensive Care Unit:\n",
        "\n",
        "\n",
        "\n",
        "> A specialized service in larger hospitals that provides inpatient care for critically ill patients on surgical services. \n",
        "\n",
        "5. TSICU: Trauma Surgical Intensive Care Unit\n",
        "\n",
        "\n",
        "> Found in hospitals certified in treating major trauma with a dedicated trauma team equipped with the expertise to deal with serious complications.\n",
        "\n",
        "6. NICU: Neonatal intensive care unit\n",
        "\n",
        "\n",
        "> Found in hospitals certified in treating major trauma with a dedicated trauma team equipped with the expertise to deal with serious complications.\n",
        "\n",
        "7. NWARD: Neonatal ward\n",
        "\n",
        "\n",
        "> Provides around-the-clock care to sick or premature babies. \n",
        "\n"
      ],
      "metadata": {
        "id": "jAVRSZ9lBSie"
      }
    },
    {
      "cell_type": "markdown",
      "source": [
        "##Useful Links:\n",
        "1. Official mimic data documentation: https://mimic.mit.edu/docs/iii/\n",
        "2. Schema overview and description: https://mit-lcp.github.io/mimic-schema-spy/\n",
        "3. Table relationships: https://mit-lcp.github.io/mimic-schema-spy/relationships.html"
      ],
      "metadata": {
        "id": "D8kqozhTbSSb"
      }
    },
    {
      "cell_type": "markdown",
      "source": [
        "## Connect to Google Drive"
      ],
      "metadata": {
        "id": "R4-L_Q3EaJTx"
      }
    },
    {
      "cell_type": "code",
      "source": [
        "from google.colab import drive\n",
        "drive.mount('/content/drive')"
      ],
      "metadata": {
        "colab": {
          "base_uri": "https://localhost:8080/"
        },
        "id": "1l9Ik_DHaHiN",
        "outputId": "8d4741fe-c507-4326-9469-be7fb0a136d9"
      },
      "execution_count": 6,
      "outputs": [
        {
          "output_type": "stream",
          "name": "stdout",
          "text": [
            "Drive already mounted at /content/drive; to attempt to forcibly remount, call drive.mount(\"/content/drive\", force_remount=True).\n"
          ]
        }
      ]
    },
    {
      "cell_type": "markdown",
      "source": [
        "## Importing Liabraries"
      ],
      "metadata": {
        "id": "y8XIBGKHZj_K"
      }
    },
    {
      "cell_type": "code",
      "execution_count": 31,
      "metadata": {
        "id": "Zpn4D4eGY1lN"
      },
      "outputs": [],
      "source": [
        "import pandas as pd\n",
        "import numpy as np\n",
        "import matplotlib.pyplot as plt"
      ]
    },
    {
      "cell_type": "markdown",
      "source": [
        "## Import Datasets"
      ],
      "metadata": {
        "id": "_t_Qix9ZZ385"
      }
    },
    {
      "cell_type": "code",
      "source": [
        "#Module 1: The following tables are used to define and track patient stays:\n",
        "\n",
        "#t1:Hospital admissions associated with an ICU stay.\n",
        "#keys: HADM_ID, PATIENTS on SUBJECT_ID\n",
        "admissions = pd.read_csv('/content/drive/MyDrive/SDOH/mimic-iii-clinical-database-1.4/ADMISSIONS.csv.gz',compression='gzip')\n",
        "\n",
        "#t2:Record of when patients were ready for discharge (called out), and the actual time of their discharge (or more generally, their outcome).\n",
        "#keys:PATIENTS on SUBJECT_ID, ADMISSIONS on HADM_ID\n",
        "callout = pd.read_csv('/content/drive/MyDrive/SDOH/mimic-iii-clinical-database-1.4/CALLOUT.csv.gz',compression='gzip')\n",
        "\n",
        "#t3:List of ICU admissions.\n",
        "#keys: ICUSTAY_ID, PATIENTS on SUBJECT_ID,ADMISSIONS on HADM_ID\n",
        "icustays = pd.read_csv('/content/drive/MyDrive/SDOH/mimic-iii-clinical-database-1.4/ICUSTAYS.csv.gz',compression='gzip')\n",
        "\n",
        "#t4:Patients associated with an admission to the ICU.\n",
        "#keys: SUBJECT_ID,ADMISSIONS on SUBJECT_ID,ICUSTAYS on SUBJECT_ID\n",
        "patients = pd.read_csv('/content/drive/MyDrive/SDOH/mimic-iii-clinical-database-1.4/PATIENTS.csv.gz',compression='gzip')\n",
        "\n",
        "#t5:Hospital services that patients were under during their hospital stay.\n",
        "#keys: PATIENTS on SUBJECT_ID,ADMISSIONS on HADM_ID\n",
        "services = pd.read_csv('/content/drive/MyDrive/SDOH/mimic-iii-clinical-database-1.4/SERVICES.csv.gz',compression='gzip')\n",
        "\n",
        "#t6:\tLocation of patients during their hospital stay.\n",
        "#keys:PATIENTS on SUBJECT_ID,ADMISSIONS on HADM_ID,ICUSTAYS on ICUSTAY_ID\n",
        "transfers = pd.read_csv('/content/drive/MyDrive/SDOH/mimic-iii-clinical-database-1.4/TRANSFERS.csv.gz',compression='gzip')"
      ],
      "metadata": {
        "id": "n1Fuw3AzZ3eM"
      },
      "execution_count": 10,
      "outputs": []
    },
    {
      "cell_type": "code",
      "source": [
        "#Module 2: The following tables contain data collected in the critical care unit:\n",
        "\n",
        "#t7: List of caregivers associated with an ICU stay.\n",
        "#keys: CHARTEVENTS on CGID\n",
        "caregivers = pd.read_csv('/content/drive/MyDrive/SDOH/mimic-iii-clinical-database-1.4/CAREGIVERS.csv.gz',compression='gzip')\n",
        "\n",
        "\n",
        "#t8: Events occuring on a patient chart. ***330 M rows\n",
        "#keys: PATIENTS on SUBJECT_ID, ADMISSIONS on HADM_ID,ICUSTAYS on ICUSTAY_ID,D_ITEMS on ITEMID,CAREGIVERS on CGID\n",
        "chartevents = pd.read_csv('/content/drive/MyDrive/SDOH/mimic-iii-clinical-database-1.4/CHARTEVENTS.csv.gz',compression='gzip')\n",
        "\n",
        "#t9: Events relating to a datetime. ***4 M rows\n",
        "#keys: PATIENTS on SUBJECT_ID,ADMISSIONS on HADM_ID,ICUSTAYS on ICUSTAY_ID,D_ITEMS on ITEMID,CAREGIVERS on CGID\n",
        "datetimeevents = pd.read_csv('/content/drive/MyDrive/SDOH/mimic-iii-clinical-database-1.4/DATETIMEEVENTS.csv.gz',compression='gzip')\n",
        "\n",
        "#t10: Events relating to fluid input for patients whose data was originally stored in the CareVue database. ***17M rows\n",
        "#keys: PATIENTS on SUBJECT_ID,ADMISSIONS on HADM_ID,ICUSTAYS on ICUSTAY_ID,D_ITEMS on ITEMID,CAREGIVERS on CGID\n",
        "inputevents_cv = pd.read_csv('/content/drive/MyDrive/SDOH/mimic-iii-clinical-database-1.4/INPUTEVENTS_CV.csv.gz',compression='gzip')\n",
        "\n",
        "#t11: Events relating to fluid input for patients whose data was originally stored in the MetaVision database. ***3M rows\n",
        "#keys: PATIENTS on SUBJECT_ID,ADMISSIONS on HADM_ID,ICUSTAYS on ICUSTAY_ID,D_ITEMS on ITEMID,CAREGIVERS on CGID\n",
        "inputevents_mv = pd.read_csv('/content/drive/MyDrive/SDOH/mimic-iii-clinical-database-1.4/INPUTEVENTS_MV.csv.gz',compression='gzip')\n",
        "\n",
        "#t12: Notes associated with hospital stays. #2M rows\n",
        "#keys: PATIENTS on SUBJECT_ID,ADMISSIONS on HADM_ID,CAREGIVERS on CGID\n",
        "noteevents = pd.read_csv('/content/drive/MyDrive/SDOH/mimic-iii-clinical-database-1.4/NOTEEVENTS.csv.gz',compression='gzip')\n",
        "\n",
        "#t13: Outputs recorded during the ICU stay.\n",
        "#keys: PATIENTS on SUBJECT_ID,ADMISSIONS on HADM_ID,ICUSTAYS on ICUSTAY_ID,D_ITEMS on ITEMID,CAREGIVERS on CGID\n",
        "outputevents = pd.read_csv('/content/drive/MyDrive/SDOH/mimic-iii-clinical-database-1.4/OUTPUTEVENTS.csv.gz',compression='gzip')\n",
        "\n",
        "#t14: Procedure start and stop times recorded for MetaVision patients.\n",
        "#keys:#keys: PATIENTS on SUBJECT_ID,ADMISSIONS on HADM_ID,ICUSTAYS on ICUSTAY_ID,D_ITEMS on ITEMID\n",
        "procedureevents_mv = pd.read_csv('/content/drive/MyDrive/SDOH/mimic-iii-clinical-database-1.4/PROCEDUREEVENTS_MV.csv.gz',compression='gzip')"
      ],
      "metadata": {
        "id": "WsK4ZQ5hgt0t"
      },
      "execution_count": 17,
      "outputs": []
    },
    {
      "cell_type": "code",
      "source": [
        "#Module 3: The following tables contain data collected in the hospital record system:\n",
        "#t15: Events recorded in Current Procedural Terminology.\n",
        "#keys: PATIENTS on SUBJECT_ID, ADMISSIONS on HADM_ID\n",
        "cptevents = pd.read_csv('/content/drive/MyDrive/SDOH/mimic-iii-clinical-database-1.4/CPTEVENTS.csv.gz',compression='gzip')\n",
        "\n",
        "#t16: Diagnoses relating to a hospital admission coded using the ICD9 system.\n",
        "#keys: PATIENTS on SUBJECT_ID,ADMISSIONS on HADM_ID.D_ICD_DIAGNOSES on ICD9_CODE\n",
        "diagnoses_icd = pd.read_csv('/content/drive/MyDrive/SDOH/mimic-iii-clinical-database-1.4/DIAGNOSES_ICD.csv.gz',compression='gzip')\n",
        "\n",
        "#t17: Hospital stays classified using the Diagnosis-Related Group system.\n",
        "#keys: PATIENTS on SUBJECT_ID, ADMISSIONS on HADM_ID\n",
        "drgcodes = pd.read_csv('/content/drive/MyDrive/SDOH/mimic-iii-clinical-database-1.4/DRGCODES.csv.gz',compression='gzip')\n",
        "\n",
        "#t18: Events relating to laboratory tests.\n",
        "#keys: PATIENTS on SUBJECT_ID, ADMISSIONS on HADM_ID, D_LABITEMS on ITEMID\n",
        "labevents = pd.read_csv('/content/drive/MyDrive/SDOH/mimic-iii-clinical-database-1.4/LABEVENTS.csv.gz',compression='gzip')\n",
        "\n",
        "#t19: Events relating to microbiology tests.\n",
        "#keys: PATIENTS on SUBJECT_ID, ADMISSIONS on HADM_ID, D_ITEMS on SPEC_ITEMID, D_ITEMS on ORG_ITEMID, D_ITEMS on AB_ITEMID\n",
        "microbiologyevents = pd.read_csv('/content/drive/MyDrive/SDOH/mimic-iii-clinical-database-1.4/MICROBIOLOGYEVENTS.csv.gz',compression='gzip')\n",
        "\n",
        "#t20: Medicines prescribed.\n",
        "#keys: PATIENTS on SUBJECT_ID, ADMISSIONS on HADM_ID, ICUSTAYS on ICUSTAY_ID\n",
        "prescriptions = pd.read_csv('/content/drive/MyDrive/SDOH/mimic-iii-clinical-database-1.4/PRESCRIPTIONS.csv.gz',compression='gzip')\n",
        "\n",
        "#t21: Procedures relating to a hospital admission coded using the ICD9 system.\n",
        "#keys: PATIENTS on SUBJECT_ID, ADMISSIONS on HADM_ID, D_ICD_PROCEDURES on ICD9_CODE\n",
        "procedures_icd = pd.read_csv('/content/drive/MyDrive/SDOH/mimic-iii-clinical-database-1.4/PROCEDURES_ICD.csv.gz',compression='gzip')"
      ],
      "metadata": {
        "colab": {
          "base_uri": "https://localhost:8080/"
        },
        "id": "7UexMxmUZ2iR",
        "outputId": "7e577476-8b89-4a08-8b3f-e162c75f9222"
      },
      "execution_count": 32,
      "outputs": [
        {
          "output_type": "stream",
          "name": "stderr",
          "text": [
            "/usr/local/lib/python3.7/dist-packages/IPython/core/interactiveshell.py:3326: DtypeWarning: Columns (11) have mixed types.Specify dtype option on import or set low_memory=False.\n",
            "  exec(code_obj, self.user_global_ns, self.user_ns)\n"
          ]
        }
      ]
    },
    {
      "cell_type": "code",
      "source": [
        "#Module 4: The following tables are dictionaries:\n",
        "#t22: High-level dictionary of the Current Procedural Terminology.\n",
        "#keys: CPTEVENTS on CPT_CD between MINCODEINSUBSECTION and MAXCODEINSUBSECTION\n",
        "d_cpt = pd.read_csv('/content/drive/MyDrive/SDOH/mimic-iii-clinical-database-1.4/D_CPT.csv.gz',compression='gzip')\n",
        "\n",
        "#t23: Dictionary of the International Classification of Diseases, 9th Revision (Diagnoses).\n",
        "#keys: DIAGNOSES_ICD ON ICD9_CODE\n",
        "d_icd_diagnoses = pd.read_csv('/content/drive/MyDrive/SDOH/mimic-iii-clinical-database-1.4/D_ICD_DIAGNOSES.csv.gz',compression='gzip')\n",
        "\n",
        "#t24: Dictionary of the International Classification of Diseases, 9th Revision (Procedures).\n",
        "#keys:PROCEDURES_ICD on ICD9_CODE\n",
        "d_icd_procedures = pd.read_csv('/content/drive/MyDrive/SDOH/mimic-iii-clinical-database-1.4/D_ICD_PROCEDURES.csv.gz',compression='gzip')\n",
        "\n",
        "#t25: Dictionary of non-laboratory-related charted items.\n",
        "#*** All Metavision ITEMIDs will have a value > 220000\n",
        "#keys:\n",
        "#CHARTEVENTS on ITEMID\n",
        "#DATETIMEEVENTS on ITEMID\n",
        "#INPUTEVENTS_CV on ITEMID\n",
        "#INPUTEVENTS_MV on ITEMID\n",
        "#MICROBIOLOGYEVENTS on SPEC_ITEMID, ORG_ITEMID, or AB_ITEMID (for example, use d_items.ITEMID = microbiologyevents.SPEC_ITEMID)\n",
        "#OUTPUTEVENTS on ITEMID\n",
        "#PROCEDUREEVENTS_MV on ITEMID\n",
        "d_items = pd.read_csv('/content/drive/MyDrive/SDOH/mimic-iii-clinical-database-1.4/D_ITEMS.csv.gz',compression='gzip')\n",
        "\n",
        "#t26: Dictionary of laboratory-related items.\n",
        "#keys: LABEVENTS on ITEMID\n",
        "d_labitems = pd.read_csv('/content/drive/MyDrive/SDOH/mimic-iii-clinical-database-1.4/D_LABITEMS.csv.gz',compression='gzip')"
      ],
      "metadata": {
        "id": "VMCTkm0Wi7k8"
      },
      "execution_count": 35,
      "outputs": []
    },
    {
      "cell_type": "markdown",
      "source": [
        "## Exloratory Data Analysis"
      ],
      "metadata": {
        "id": "V8xu190Zo8vX"
      }
    },
    {
      "cell_type": "code",
      "source": [
        "d_icd_diagnoses.head()"
      ],
      "metadata": {
        "colab": {
          "base_uri": "https://localhost:8080/",
          "height": 206
        },
        "id": "wNp8NL0q6d8I",
        "outputId": "a901c5a0-128e-4b2d-cc68-f1172c4f2c22"
      },
      "execution_count": 37,
      "outputs": [
        {
          "output_type": "execute_result",
          "data": {
            "text/plain": [
              "   ROW_ID ICD9_CODE               SHORT_TITLE  \\\n",
              "0     174     01166     TB pneumonia-oth test   \n",
              "1     175     01170    TB pneumothorax-unspec   \n",
              "2     176     01171   TB pneumothorax-no exam   \n",
              "3     177     01172  TB pneumothorx-exam unkn   \n",
              "4     178     01173  TB pneumothorax-micro dx   \n",
              "\n",
              "                                          LONG_TITLE  \n",
              "0  Tuberculous pneumonia [any form], tubercle bac...  \n",
              "1              Tuberculous pneumothorax, unspecified  \n",
              "2  Tuberculous pneumothorax, bacteriological or h...  \n",
              "3  Tuberculous pneumothorax, bacteriological or h...  \n",
              "4  Tuberculous pneumothorax, tubercle bacilli fou...  "
            ],
            "text/html": [
              "\n",
              "  <div id=\"df-b2d261d4-6d19-4c3e-8f00-f36185c4a047\">\n",
              "    <div class=\"colab-df-container\">\n",
              "      <div>\n",
              "<style scoped>\n",
              "    .dataframe tbody tr th:only-of-type {\n",
              "        vertical-align: middle;\n",
              "    }\n",
              "\n",
              "    .dataframe tbody tr th {\n",
              "        vertical-align: top;\n",
              "    }\n",
              "\n",
              "    .dataframe thead th {\n",
              "        text-align: right;\n",
              "    }\n",
              "</style>\n",
              "<table border=\"1\" class=\"dataframe\">\n",
              "  <thead>\n",
              "    <tr style=\"text-align: right;\">\n",
              "      <th></th>\n",
              "      <th>ROW_ID</th>\n",
              "      <th>ICD9_CODE</th>\n",
              "      <th>SHORT_TITLE</th>\n",
              "      <th>LONG_TITLE</th>\n",
              "    </tr>\n",
              "  </thead>\n",
              "  <tbody>\n",
              "    <tr>\n",
              "      <th>0</th>\n",
              "      <td>174</td>\n",
              "      <td>01166</td>\n",
              "      <td>TB pneumonia-oth test</td>\n",
              "      <td>Tuberculous pneumonia [any form], tubercle bac...</td>\n",
              "    </tr>\n",
              "    <tr>\n",
              "      <th>1</th>\n",
              "      <td>175</td>\n",
              "      <td>01170</td>\n",
              "      <td>TB pneumothorax-unspec</td>\n",
              "      <td>Tuberculous pneumothorax, unspecified</td>\n",
              "    </tr>\n",
              "    <tr>\n",
              "      <th>2</th>\n",
              "      <td>176</td>\n",
              "      <td>01171</td>\n",
              "      <td>TB pneumothorax-no exam</td>\n",
              "      <td>Tuberculous pneumothorax, bacteriological or h...</td>\n",
              "    </tr>\n",
              "    <tr>\n",
              "      <th>3</th>\n",
              "      <td>177</td>\n",
              "      <td>01172</td>\n",
              "      <td>TB pneumothorx-exam unkn</td>\n",
              "      <td>Tuberculous pneumothorax, bacteriological or h...</td>\n",
              "    </tr>\n",
              "    <tr>\n",
              "      <th>4</th>\n",
              "      <td>178</td>\n",
              "      <td>01173</td>\n",
              "      <td>TB pneumothorax-micro dx</td>\n",
              "      <td>Tuberculous pneumothorax, tubercle bacilli fou...</td>\n",
              "    </tr>\n",
              "  </tbody>\n",
              "</table>\n",
              "</div>\n",
              "      <button class=\"colab-df-convert\" onclick=\"convertToInteractive('df-b2d261d4-6d19-4c3e-8f00-f36185c4a047')\"\n",
              "              title=\"Convert this dataframe to an interactive table.\"\n",
              "              style=\"display:none;\">\n",
              "        \n",
              "  <svg xmlns=\"http://www.w3.org/2000/svg\" height=\"24px\"viewBox=\"0 0 24 24\"\n",
              "       width=\"24px\">\n",
              "    <path d=\"M0 0h24v24H0V0z\" fill=\"none\"/>\n",
              "    <path d=\"M18.56 5.44l.94 2.06.94-2.06 2.06-.94-2.06-.94-.94-2.06-.94 2.06-2.06.94zm-11 1L8.5 8.5l.94-2.06 2.06-.94-2.06-.94L8.5 2.5l-.94 2.06-2.06.94zm10 10l.94 2.06.94-2.06 2.06-.94-2.06-.94-.94-2.06-.94 2.06-2.06.94z\"/><path d=\"M17.41 7.96l-1.37-1.37c-.4-.4-.92-.59-1.43-.59-.52 0-1.04.2-1.43.59L10.3 9.45l-7.72 7.72c-.78.78-.78 2.05 0 2.83L4 21.41c.39.39.9.59 1.41.59.51 0 1.02-.2 1.41-.59l7.78-7.78 2.81-2.81c.8-.78.8-2.07 0-2.86zM5.41 20L4 18.59l7.72-7.72 1.47 1.35L5.41 20z\"/>\n",
              "  </svg>\n",
              "      </button>\n",
              "      \n",
              "  <style>\n",
              "    .colab-df-container {\n",
              "      display:flex;\n",
              "      flex-wrap:wrap;\n",
              "      gap: 12px;\n",
              "    }\n",
              "\n",
              "    .colab-df-convert {\n",
              "      background-color: #E8F0FE;\n",
              "      border: none;\n",
              "      border-radius: 50%;\n",
              "      cursor: pointer;\n",
              "      display: none;\n",
              "      fill: #1967D2;\n",
              "      height: 32px;\n",
              "      padding: 0 0 0 0;\n",
              "      width: 32px;\n",
              "    }\n",
              "\n",
              "    .colab-df-convert:hover {\n",
              "      background-color: #E2EBFA;\n",
              "      box-shadow: 0px 1px 2px rgba(60, 64, 67, 0.3), 0px 1px 3px 1px rgba(60, 64, 67, 0.15);\n",
              "      fill: #174EA6;\n",
              "    }\n",
              "\n",
              "    [theme=dark] .colab-df-convert {\n",
              "      background-color: #3B4455;\n",
              "      fill: #D2E3FC;\n",
              "    }\n",
              "\n",
              "    [theme=dark] .colab-df-convert:hover {\n",
              "      background-color: #434B5C;\n",
              "      box-shadow: 0px 1px 3px 1px rgba(0, 0, 0, 0.15);\n",
              "      filter: drop-shadow(0px 1px 2px rgba(0, 0, 0, 0.3));\n",
              "      fill: #FFFFFF;\n",
              "    }\n",
              "  </style>\n",
              "\n",
              "      <script>\n",
              "        const buttonEl =\n",
              "          document.querySelector('#df-b2d261d4-6d19-4c3e-8f00-f36185c4a047 button.colab-df-convert');\n",
              "        buttonEl.style.display =\n",
              "          google.colab.kernel.accessAllowed ? 'block' : 'none';\n",
              "\n",
              "        async function convertToInteractive(key) {\n",
              "          const element = document.querySelector('#df-b2d261d4-6d19-4c3e-8f00-f36185c4a047');\n",
              "          const dataTable =\n",
              "            await google.colab.kernel.invokeFunction('convertToInteractive',\n",
              "                                                     [key], {});\n",
              "          if (!dataTable) return;\n",
              "\n",
              "          const docLinkHtml = 'Like what you see? Visit the ' +\n",
              "            '<a target=\"_blank\" href=https://colab.research.google.com/notebooks/data_table.ipynb>data table notebook</a>'\n",
              "            + ' to learn more about interactive tables.';\n",
              "          element.innerHTML = '';\n",
              "          dataTable['output_type'] = 'display_data';\n",
              "          await google.colab.output.renderOutput(dataTable, element);\n",
              "          const docLink = document.createElement('div');\n",
              "          docLink.innerHTML = docLinkHtml;\n",
              "          element.appendChild(docLink);\n",
              "        }\n",
              "      </script>\n",
              "    </div>\n",
              "  </div>\n",
              "  "
            ]
          },
          "metadata": {},
          "execution_count": 37
        }
      ]
    }
  ]
}